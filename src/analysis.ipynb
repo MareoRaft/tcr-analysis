{
 "cells": [
  {
   "cell_type": "markdown",
   "id": "practical-station",
   "metadata": {},
   "source": [
    "# Delta vector generative ML model\n",
    "\n",
    "This Generative Machine Learning model generates an 'expected delta vector' from pairs of samples **before** and **after** vaccination.\n",
    "\n",
    "Given a new pair of samples, it predicts which one is before vaccination and which one is after vaccination by comparing its delta vector to the 'expected delta vector'."
   ]
  },
  {
   "cell_type": "code",
   "execution_count": 4,
   "id": "american-individual",
   "metadata": {},
   "outputs": [
    {
     "name": "stdout",
     "output_type": "stream",
     "text": [
      "got delta vecs\n",
      "[1 2 3 4]\n",
      "[0]\n",
      "[0 2 3 4]\n",
      "[1]\n",
      "[0 1 3 4]\n",
      "[2]\n",
      "[0 1 2 4]\n",
      "[3]\n",
      "[0 1 2 3]\n",
      "[4]\n",
      "[(array([1]), [True]), (array([1]), [True]), (array([0]), [False]), (array([1]), [True]), (array([1]), [True])]\n",
      "\n",
      "accuracy: 1.0\n"
     ]
    }
   ],
   "source": [
    "import main_delta_vector_generative_model\n",
    "import sample_distances\n",
    "\n",
    "main_delta_vector_generative_model.detect_vaccine(\n",
    "    # The distance function used during prediction to compare the sample pair to the 'expected delta vector'.\n",
    "    dist_func=sample_distances.lp(2),\n",
    "    # Limit the data below to just the first n pairs. (defaults to None)\n",
    "    data_limit=None,\n",
    "    # List of pairs of samples.\n",
    "    # Each pair consists of two samples from the same person, one of which before the vaccine, the other after.\n",
    "    X=[\n",
    "        ('cdr3.a.A_2017_2018_d_00_53535.ann', 'cdr3.a.A_2017_2018_d_07_11143.ann'),\n",
    "        ('cdr3.a.B_2017_2018_d_00_56786.ann', 'cdr3.a.B_2017_2018_d_09_50844.ann'),\n",
    "        ('cdr3.a.C_2017_2018_d_07_48996.ann', 'cdr3.a.C_2017_2018_d_00_26898.ann'),\n",
    "        ('cdr3.a.D_2017_2018_d_00_45294.ann', 'cdr3.a.D_2017_2018_d_07_55841.ann'),\n",
    "        ('cdr3.a.E_2017_2018_d_00_94077.ann', 'cdr3.a.E_2017_2018_d_07_54569.ann'),\n",
    "    ],\n",
    "    # labels\n",
    "    # 1 -> oriented as (before vaccine, after vaccine)\n",
    "    # 0 -> oriented as (after vaccine, before vaccine)\n",
    "    y=[1, 1, 0, 1, 1],\n",
    ")\n"
   ]
  },
  {
   "cell_type": "markdown",
   "id": "intelligent-pattern",
   "metadata": {},
   "source": [
    "# Delta vector ML model\n",
    "\n",
    "This Machine Learning model is trained on delta vectors showing the immune system change from **before** vaccination to **after** vaccination.\n",
    "\n",
    "The model then takes a pair of samples and predicts which of the two samples came before the vaccine and which came after."
   ]
  },
  {
   "cell_type": "code",
   "execution_count": null,
   "id": "consistent-turkish",
   "metadata": {},
   "outputs": [],
   "source": [
    "import main_delta_vector_ml_model\n",
    "\n",
    "main_delta_vector_ml_model.detect_vaccine(\n",
    "    # Limit the data below to just the first n pairs. (defaults to None)\n",
    "    limit=3,\n",
    "    X=[\n",
    "        ('cdr3.a.A_2017_2018_d_00_53535.ann','cdr3.a.A_2017_2018_d_07_11143.ann'),\n",
    "        ('cdr3.a.B_2017_2018_d_00_56786.ann','cdr3.a.B_2017_2018_d_09_50844.ann'),\n",
    "        ('cdr3.a.C_2017_2018_d_00_26898.ann','cdr3.a.C_2017_2018_d_07_48996.ann'),\n",
    "        ('cdr3.a.D_2017_2018_d_00_45294.ann','cdr3.a.D_2017_2018_d_07_55841.ann'),\n",
    "        ('cdr3.a.E_2017_2018_d_00_94077.ann','cdr3.a.E_2017_2018_d_07_54569.ann'),\n",
    "    ],\n",
    "    # labels\n",
    "    # 1 -> oriented as (before vaccine, after vaccine)\n",
    "    # 0 -> oriented as (after vaccine, before vaccine)\n",
    "    y=[1] * 5,\n",
    ")\n"
   ]
  },
  {
   "cell_type": "markdown",
   "id": "tamil-retention",
   "metadata": {},
   "source": [
    "# Vaccine detection ML model\n",
    "\n",
    "This Machine Learning model guesses whether a person has or has not taken the vaccine.\n",
    "\n",
    "  1. The model trains on almost all the given samples except for 1 or 2 which are withheld for testing purposes.\n",
    "  2. The model then predicts whether the withheld samples were before or after the vaccine.\n",
    "  3. These results are compared to the correct answer.\n",
    "  4. The simulation may run multiple times and outputs an accuracy."
   ]
  },
  {
   "cell_type": "code",
   "execution_count": null,
   "id": "banned-demand",
   "metadata": {},
   "outputs": [],
   "source": [
    "import main_vaccine_detection_ml_model\n",
    "\n",
    "main_vaccine_detection_ml_model.detect_vaccine(\n",
    "    # Limit each sample to the top n CDR3s before running the ML model.\n",
    "    cdr3_limit=500,\n",
    "    # Limit the number of samples below to the following number. (defaults to None)\n",
    "    data_limit=None,\n",
    "    # list of samples (file names) being used to train the model\n",
    "    X=[\n",
    "        'cdr3.a.A_2017_2018_d_00_53535.ann',\n",
    "        'cdr3.a.A_2017_2018_d_07_11143.ann',\n",
    "        'cdr3.a.B_2017_2018_d_00_56786.ann',\n",
    "        'cdr3.a.B_2017_2018_d_09_50844.ann',\n",
    "        'cdr3.a.C_2017_2018_d_00_26898.ann',\n",
    "        'cdr3.a.C_2017_2018_d_07_48996.ann',\n",
    "        'cdr3.a.D_2017_2018_d_00_45294.ann',\n",
    "        'cdr3.a.D_2017_2018_d_07_55841.ann',\n",
    "        'cdr3.a.E_2017_2018_d_00_94077.ann',\n",
    "        'cdr3.a.E_2017_2018_d_07_54569.ann',\n",
    "    ],\n",
    "    # list of whether each sample was taken before or after the vaccine.\n",
    "    # 0 -> before the vaccine\n",
    "    # 1 -> after the vaccine\n",
    "    # This list is parallel to X, meaning that, for example, the third value in y corresponds to the third value in X.\n",
    "    y=[\n",
    "        0,\n",
    "        1,\n",
    "        0,\n",
    "        1,\n",
    "        0,\n",
    "        1,\n",
    "        0,\n",
    "        1,\n",
    "        0,\n",
    "        1,\n",
    "    ],\n",
    ")\n"
   ]
  },
  {
   "cell_type": "markdown",
   "id": "outside-lunch",
   "metadata": {},
   "source": [
    "# Vaccine Delta vector\n",
    "\n",
    "Take TCR-repertoire after vaccine minus TCR-repertoire before vaccine to obtain a TCR-repertoire \"delta vector\" that represents the gained immunity from being exposed to the vaccine.\n",
    "\n",
    "We obtain one delta vector per person and then average them into a single Delta vector."
   ]
  },
  {
   "cell_type": "code",
   "execution_count": null,
   "id": "touched-child",
   "metadata": {},
   "outputs": [],
   "source": [
    "import main_delta_vector\n",
    "\n",
    "main_delta_vector.compute_vaccine_delta_vector(\n",
    "    # Samples of people before and after vaccination.\n",
    "    # Use a list of (before_vaccine, after_vaccine) file names pairs.\n",
    "    file_names=[        \n",
    "        ('cdr3.a.A_2017_2018_d_00_53535.ann', 'cdr3.a.A_2017_2018_d_07_11143.ann'),\n",
    "        ('cdr3.a.B_2017_2018_d_00_56786.ann', 'cdr3.a.B_2017_2018_d_09_50844.ann'),\n",
    "        ('cdr3.a.C_2017_2018_d_00_26898.ann', 'cdr3.a.C_2017_2018_d_07_48996.ann'),\n",
    "        ('cdr3.a.D_2017_2018_d_00_45294.ann', 'cdr3.a.D_2017_2018_d_07_55841.ann'),\n",
    "        ('cdr3.a.E_2017_2018_d_00_94077.ann', 'cdr3.a.E_2017_2018_d_07_54569.ann'),\n",
    "    ],\n",
    ")\n"
   ]
  },
  {
   "cell_type": "markdown",
   "id": "hairy-james",
   "metadata": {},
   "source": [
    "# Find Common CDR3s\n",
    "\n",
    "Find CDR3 sequences common across multiple samples.\n",
    "\n",
    "This could be useful for finding CDR3s that are common to many people, or for finding CDR3s that persist in the same person over a long period of time.  A CDR3 common to many people could potentially be antigen-binding for a widespread virus."
   ]
  },
  {
   "cell_type": "code",
   "execution_count": null,
   "id": "forward-bradford",
   "metadata": {},
   "outputs": [],
   "source": [
    "import main_common_cdr3s\n",
    "\n",
    "main_common_cdr3s.find_common_cdr3s(\n",
    "    # the file names of the samples you want to compare\n",
    "    file_names=[\n",
    "        'cdr3.a.A_2017_2018_d_00_53535.ann',\n",
    "        'cdr3.a.B_2017_2018_d_00_32483.ann',\n",
    "        'cdr3.a.C_2017_2018_d_00_26898.ann',\n",
    "        'cdr3.a.D_2017_2018_d_00_45294.ann',\n",
    "        'cdr3.a.E_2017_2018_d_00_94077.ann',\n",
    "    ],\n",
    "    # only use the top n highest-frequency cdr3s in each sample (default=None). Put None for no restriction.\n",
    "    n=4000,\n",
    ")\n"
   ]
  },
  {
   "cell_type": "markdown",
   "id": "warming-cherry",
   "metadata": {},
   "source": [
    "# Clustering CDR3s\n",
    "\n",
    "Perform hierarchical clustering on the CDR3s in a sample.\n",
    "\n",
    "Given a sample, a distance function on CDR3 pairs, and a limit n, cluster the top n CDR3s in the sample according to the distance between them.\n",
    "\n",
    "This analysis is useful for finding highly-similar top CDR3s in a sample, which are great candidates for potential mutations, and \"sister\" CDR3s that combat the same virus."
   ]
  },
  {
   "cell_type": "code",
   "execution_count": null,
   "id": "fifteen-brush",
   "metadata": {},
   "outputs": [],
   "source": [
    "import main_cluster_cdr3s\n",
    "import cdr3_distances\n",
    "\n",
    "main_cluster_cdr3s.cluster_cdr3s(\n",
    "    # the file name of the sample you want to analyze\n",
    "    file_name='cdr3.a.A_2017_2018_d_00_53535.ann',\n",
    "    # the distance function you want to use on each CDR3 pair\n",
    "    # values: hamming, levenshtein, sorensen, jaccard\n",
    "    dist_func=cdr3_distances.hamming,\n",
    "    # the ngram 'n' to use on the CDR3 sequences before applying the distance function (defaults to 1)\n",
    "    n_gram_len=1,\n",
    "    # the number of CDR3s you want to look at. it will cluster the top n CDR3s in the sample.\n",
    "    n=30,\n",
    ")\n"
   ]
  },
  {
   "cell_type": "markdown",
   "id": "proved-azerbaijan",
   "metadata": {},
   "source": [
    "# Closest n CDR3s\n",
    "\n",
    "Find the n closest CDR3s to a given CDR3.\n",
    "\n",
    "Given a CDR3, a sample, a distance function, and a limit \"n\", find the n CDR3s in the sample that are closest to the given CDR3 according to the given distance function.\n",
    "\n",
    "If you have a specific CDR3 that is important for combatting a virus, this analysis could be useful for finding other CDR3s that may also defend against the virus.  This analysis is also useful for finding CDR3s that may have arisen from a mutation."
   ]
  },
  {
   "cell_type": "code",
   "execution_count": null,
   "id": "imposed-sharing",
   "metadata": {},
   "outputs": [],
   "source": [
    "import main_n_closest_cdr3s\n",
    "import cdr3_distances\n",
    "\n",
    "main_n_closest_cdr3s.get_n_closest_cdr3s(\n",
    "    # the file name of the sample you want to analyze\n",
    "    file_name='cdr3.a.A_2017_2018_d_00_53535.ann',\n",
    "    # the CDR3 sequence\n",
    "    cdr3='cVVSAFQAGTALIf',\n",
    "    # the number of closest CDR3s you want to output\n",
    "    n=20,\n",
    "    # the distance function you want to use on each pair of CDR3s\n",
    "    # values: hamming, levenshtein, sorensen, jaccard\n",
    "    dist_func=cdr3_distances.hamming,\n",
    "    # the ngram 'n' to use on the CDR3 sequences before applying the distance function (defaults to 1)\n",
    "    n_gram_len=1,\n",
    ")\n"
   ]
  },
  {
   "cell_type": "markdown",
   "id": "remarkable-stanley",
   "metadata": {},
   "source": [
    "# Curve fitting CDR3 frequencies\n",
    "\n",
    "Given a sample, we graph its CDR3 frequencies and then fit a piecewise Zipf and exponential decay curve to the points.\n",
    "\n",
    "We report the R^2 score which indicates how good the fit is."
   ]
  },
  {
   "cell_type": "code",
   "execution_count": null,
   "id": "floppy-novelty",
   "metadata": {},
   "outputs": [],
   "source": [
    "import main_piecewise_curve_fitting\n",
    "\n",
    "print('computation starting...\\n\\n')\n",
    "main_piecewise_curve_fitting.fit_curve(\n",
    "    # file name of the sample whose frequencies you want to analyze\n",
    "    file_name='cdr3.a.A_2017_2018_d_00_53535.ann',\n",
    "    # the number of CDR3s you want to analyze (put None if you want them all).\n",
    "    num_cdr3s=50,\n",
    "    # reasonable starting guesses for the fit method\n",
    "    # param 1: 's' negative exponent of (x**-s/zetac(s) + c) Zipf func\n",
    "    # param 2: 'c' vertical displacement of (x**-s/zetac(s) + c) Zipf func\n",
    "    # param 3: the piecewise midpoint cutoff boundary\n",
    "    # param 4: 'a' multiplier in (a * x**b + c) exponential decay func\n",
    "    # param 5: 'b' exponent in (a * x**b + c) exponential decay func\n",
    "    # param 6: 'c' constant in (a * x**b + c) exponential decay func\n",
    "    initial_param_guesses=[6.1, 1.1, 3.1, 60000.1, -1.1, 1.1],\n",
    ")\n",
    "print('\\n\\ncomputation complete.')\n"
   ]
  },
  {
   "cell_type": "markdown",
   "id": "worldwide-southeast",
   "metadata": {},
   "source": [
    "# Sample to Sample distance ladder\n",
    "\n",
    "Look at the distance (amount of change) between pairs of samples.\n",
    "\n",
    "Various distance functions can be used to compute a distance between a pair of samples.  In this analysis you can choose which distance function suits your objective.\n",
    "\n",
    "The number immediately to the right of a sample represents the distance between that sample and the one immediately below it.  The number TWO spots to the right of the sample represents the distance between that sample and the one TWO spots below it.  And so forth."
   ]
  },
  {
   "cell_type": "code",
   "execution_count": null,
   "id": "civilian-handbook",
   "metadata": {},
   "outputs": [],
   "source": [
    "import main_sample_to_sample\n",
    "import sample_distances\n",
    "\n",
    "print('computation starting...\\n\\n')\n",
    "main_sample_to_sample.calculate_combination(\n",
    "    # distance function used to compute the distance between each pair of samples\n",
    "    # values: l2 (Euclidean), lp(p) (input any integer >= 1 for p), linfty, jaccard, weighted_jaccard, jensen_shannon\n",
    "    dist_func=sample_distances.lp(1),\n",
    "    # list the samples you want to compare. they will be compared in the order you put them.\n",
    "    file_names=[\n",
    "        'cdr3.b.A_2017_2018_d_00_53535.ann',\n",
    "        'cdr3.b.A_2017_2018_d_07_11143.ann',\n",
    "        'cdr3.b.A_2017_2018_d_28_44887.ann',\n",
    "        'cdr3.b.A_2017_2018_m_04_73516.ann',\n",
    "        # 'cdr3.b.A_2019_2020_d_00_20857.ann',\n",
    "    ],\n",
    "    # the maximum number of columns in the distance ladder\n",
    "    ladder_width=3,\n",
    ")\n",
    "print('\\n\\ncomputation complete.')\n"
   ]
  },
  {
   "cell_type": "markdown",
   "id": "explicit-cement",
   "metadata": {},
   "source": [
    "# Average sample distance\n",
    "\n",
    "Find the average distance between pairs of samples.\n",
    "\n",
    "Given a list of samples, find the distance between each possible sample pair, and then take the average of those numbers.  This is useful to get an idea of what a \"normal\" distance might be in the context of the samples you are currently looking at and the current distance function you are using."
   ]
  },
  {
   "cell_type": "code",
   "execution_count": null,
   "id": "invisible-queen",
   "metadata": {},
   "outputs": [],
   "source": [
    "import main_average_sample_distance\n",
    "import sample_distances\n",
    "\n",
    "print('computation starting...\\n\\n')\n",
    "main_average_sample_distance.calculate_combination(\n",
    "    # distance function used to compute the distance between each pair of samples\n",
    "    # values: l2 (Euclidean), lp(p) (input any integer >= 1 for p), linfty, jaccard, weighted_jaccard, jensen_shannon\n",
    "    dist_func=sample_distances.linfty,\n",
    "    # samples you want to compare. order does not matter.\n",
    "    file_names={\n",
    "        'A': ['cdr3.a.A_2017_2018_d_00_53535.ann'],\n",
    "        'B': ['cdr3.a.B_2017_2018_d_00_32483.ann'],\n",
    "        'C': ['cdr3.a.C_2017_2018_d_00_26898.ann'],\n",
    "        # 'D': ['cdr3.a.D_2017_2018_d_00_45294.ann'],\n",
    "        # 'E': ['cdr3.a.E_2017_2018_d_00_94077.ann'],\n",
    "    },\n",
    ")\n",
    "print('\\n\\ncomputation complete.')\n"
   ]
  },
  {
   "cell_type": "markdown",
   "id": "naval-sailing",
   "metadata": {},
   "source": [
    "# CDR3s to Sample\n",
    "\n",
    "Use distances between a small number of CDR3s in order to guess which sample they came from.\n",
    "\n",
    "For example, we could have 5 people and 1 sample from each person.  We then remove a CDR3 at random from one of these samples (and to be fair, we remove the same CDR3 from all the other samples if it occurs).  We then look at the distance between this CDR3 and the remaining CDR3s in the samples, and we see which sample is closest.  We **guess** that this is the sample that the CDR3 was originally removed from.  Finally, we rerun the whole process `num_trials` times and report the percentage of guesses that were correct (the **accuracy**)."
   ]
  },
  {
   "cell_type": "code",
   "execution_count": null,
   "id": "laughing-analysis",
   "metadata": {},
   "outputs": [],
   "source": [
    "import main_cdr3s_to_sample\n",
    "\n",
    "print('computation starting...')\n",
    "main_cdr3s_to_sample.calculate_combination(\n",
    "    # the file names of the samples you want to guess among\n",
    "    file_names={\n",
    "        'A': ['cdr3.a.A_2000_2001_d_00_47407.ann'],\n",
    "        'B': ['cdr3.a.B_2017_2018_d_00_32483.ann'],\n",
    "        'C': ['cdr3.a.C_2017_2018_d_00_26898.ann'],\n",
    "        # 'D': ['cdr3.a.D_2017_2018_d_00_45294.ann'],\n",
    "        # 'E': ['cdr3.a.E_2017_2018_d_00_94077.ann'],\n",
    "    },\n",
    "    # the number of times to run the simulation per sample\n",
    "    num_trials_per_sample=3,\n",
    "    # the ngram 'n' to use on the CDR3 sequences before applying the distance function\n",
    "    n_gram_len=1,\n",
    "    # the distance function to use on pairs of CDR3s\n",
    "    # values: hamming, levenshtein, sorensen, jaccard\n",
    "    inner_dist_func_name='jaccard',\n",
    "    # the aggregation function to use on cdr3 distances in order to obtain a single cdr3--sample distance\n",
    "    dist_agg_func_name='min',\n",
    "    # the number of CDR3s to use per guess. more CDR3s is more information and should increase accuracy, but also increase computation time\n",
    "    num_cdr3s=1,\n",
    ")\n",
    "print('computation complete.')\n"
   ]
  },
  {
   "cell_type": "markdown",
   "id": "dimensional-bottom",
   "metadata": {},
   "source": [
    "# CDR3 Lifespan\n",
    "\n",
    "Run the following cell to get a graph of cdr3 frequencies changing over time."
   ]
  },
  {
   "cell_type": "code",
   "execution_count": null,
   "id": "boxed-presentation",
   "metadata": {},
   "outputs": [],
   "source": [
    "import data_utils\n",
    "import main_cdr3_lifespan\n",
    "\n",
    "print('computation starting...')\n",
    "sample = data_utils.get_cdr3_counter_from_file('s', 'cdr3.b.A_2019_2020_d_00_20857.ann')\n",
    "cdr3s = sample.get_sorted_cdr3s(limit=4) # <- top 4 cdr3 sequences occuring in cdr3.b.A_2019_2020_d_00_20857.ann\n",
    "main_cdr3_lifespan.calculate_one(\n",
    "    # list of cdr3 sequences you want to graph\n",
    "    cdr3s=cdr3s,\n",
    "    # Sample file names from which to grab cdr3 frequency data.\n",
    "    # Typically all files are from the SAME person.\n",
    "    # Each file will correspond to a single date on the x-axis of the graph.\n",
    "    file_names=[\n",
    "      'cdr3.b.A_2017_2018_d_00_53535.ann',\n",
    "      'cdr3.b.A_2017_2018_d_07_11143.ann',\n",
    "      'cdr3.b.A_2017_2018_d_28_44887.ann',\n",
    "      'cdr3.b.A_2017_2018_m_04_73516.ann',\n",
    "      'cdr3.b.A_2019_2020_d_00_20857.ann',\n",
    "    ],\n",
    "    # whether or not to display the cdr3 legend in the graph\n",
    "    show_legend=True,\n",
    ")\n",
    "print('computation complete.')\n"
   ]
  }
 ],
 "metadata": {
  "kernelspec": {
   "display_name": "Python 3",
   "language": "python",
   "name": "python3"
  },
  "language_info": {
   "codemirror_mode": {
    "name": "ipython",
    "version": 3
   },
   "file_extension": ".py",
   "mimetype": "text/x-python",
   "name": "python",
   "nbconvert_exporter": "python",
   "pygments_lexer": "ipython3",
   "version": "3.8.8"
  }
 },
 "nbformat": 4,
 "nbformat_minor": 5
}
