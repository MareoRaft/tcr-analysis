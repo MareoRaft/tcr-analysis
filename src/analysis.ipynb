{
 "cells": [
  {
   "cell_type": "markdown",
   "id": "pleasant-ancient",
   "metadata": {},
   "source": [
    "# Sample to Sample distance ladder\n",
    "\n",
    "Look at the distance (amount of change) between pairs of samples.\n",
    "\n",
    "Various distance functions can be used to compute a distance between a pair of samples.  In this analysis you can choose which distance function suits your objective.\n",
    "\n",
    "The number immediately to the right of a sample represents the distance between that sample and the one immediately below it.  The number TWO spots to the right of the sample represents the distance between that sample and the one TWO spots below it.  And so forth."
   ]
  },
  {
   "cell_type": "code",
   "execution_count": null,
   "id": "related-transition",
   "metadata": {},
   "outputs": [],
   "source": [
    "import main_sample_to_sample\n",
    "import sample_distances\n",
    "\n",
    "print('computation starting...\\n\\n')\n",
    "main_sample_to_sample.calculate_combination(\n",
    "    # distance function used to compute the distance between each pair of samples\n",
    "    # valid inputs: l2 (Euclidean), lp(p) (input any integer >= 1 for p), linfty, jaccard, weighted_jaccard\n",
    "    dist_func=sample_distances.lp(1),\n",
    "    # list the samples you want to compare. they will be compared in the order you put them.\n",
    "    file_names=[\n",
    "        'cdr3.b.A_2017_2018_d_00_53535.ann',\n",
    "        'cdr3.b.A_2017_2018_d_07_11143.ann',\n",
    "        'cdr3.b.A_2017_2018_d_28_44887.ann',\n",
    "        'cdr3.b.A_2017_2018_m_04_73516.ann',\n",
    "        # 'cdr3.b.A_2019_2020_d_00_20857.ann',\n",
    "    ],\n",
    "    # the maximum number of columns in the distance ladder\n",
    "    ladder_width=3,\n",
    ")\n",
    "print('\\n\\ncomputation complete.')\n"
   ]
  },
  {
   "cell_type": "markdown",
   "id": "vanilla-generic",
   "metadata": {},
   "source": [
    "# CDR3s to Sample\n",
    "\n",
    "Use distances between a small number of CDR3s in order to guess which sample they came from.\n",
    "\n",
    "For example, we could have 5 people and 1 sample from each person.  We then remove a CDR3 at random from one of these samples (and to be fair, we remove the same CDR3 from all the other samples if it occurs).  We then look at the distance between this CDR3 and the remaining CDR3s in the samples, and we see which sample is closest.  We **guess** that this is the sample that the CDR3 was originally removed from.  Finally, we rerun the whole process `num_trials` times and report the percentage of guesses that were correct (the **accuracy**)."
   ]
  },
  {
   "cell_type": "code",
   "execution_count": null,
   "id": "southwest-ultimate",
   "metadata": {},
   "outputs": [],
   "source": [
    "import main_cdr3s_to_sample\n",
    "\n",
    "print('computation starting...')\n",
    "main_cdr3s_to_sample.calculate_combination(\n",
    "    # the file names of the samples you want to guess among\n",
    "    file_names={\n",
    "        'A': ['cdr3.a.A_2000_2001_d_00_47407.ann'],\n",
    "        'B': ['cdr3.a.B_2017_2018_d_00_32483.ann'],\n",
    "        'C': ['cdr3.a.C_2017_2018_d_00_26898.ann'],\n",
    "        # 'D': ['cdr3.a.D_2017_2018_d_00_45294.ann'],\n",
    "        # 'E': ['cdr3.a.E_2017_2018_d_00_94077.ann'],\n",
    "    },\n",
    "    # the number of times to run the simulation per sample\n",
    "    num_trials_per_sample=3,\n",
    "    # the ngram 'n' to use on the CDR3 sequences before applying the distance function\n",
    "    n_gram_len=1,\n",
    "    # the distance function to use on pairs of CDR3s\n",
    "    inner_dist_func_name='jaccard',\n",
    "    # the aggregation function to use on cdr3 distances in order to obtain a single cdr3--sample distance\n",
    "    dist_agg_func_name='min',\n",
    "    # the number of CDR3s to use per guess. more CDR3s is more information and should increase accuracy, but also increase computation time\n",
    "    num_cdr3s=1,\n",
    ")\n",
    "print('computation complete.')\n"
   ]
  },
  {
   "cell_type": "markdown",
   "id": "brazilian-habitat",
   "metadata": {},
   "source": [
    "# CDR3 Lifespan\n",
    "\n",
    "Run the following cell to get a graph of cdr3 frequencies changing over time."
   ]
  },
  {
   "cell_type": "code",
   "execution_count": null,
   "id": "direct-medicaid",
   "metadata": {},
   "outputs": [],
   "source": [
    "import data_utils\n",
    "import main_cdr3_lifespan\n",
    "\n",
    "print('computation starting...')\n",
    "sample = data_utils.get_cdr3_counter_from_file('s', 'cdr3.b.A_2019_2020_d_00_20857.ann')\n",
    "cdr3s = [sample.get_cdr3_by_rank(r) for r in range(1, 5)] # <- top 4 cdr3 sequences occuring in cdr3.b.A_2019_2020_d_00_20857.ann\n",
    "main_cdr3_lifespan.calculate_one(\n",
    "    # list of cdr3 sequences you want to graph\n",
    "    cdr3s=cdr3s,\n",
    "    # Sample file names from which to grab cdr3 frequency data.\n",
    "    # Typically all files are from the SAME person.\n",
    "    # Each file will correspond to a single date on the x-axis of the graph.\n",
    "    file_names=[\n",
    "      'cdr3.b.A_2017_2018_d_00_53535.ann',\n",
    "      'cdr3.b.A_2017_2018_d_07_11143.ann',\n",
    "      'cdr3.b.A_2017_2018_d_28_44887.ann',\n",
    "      'cdr3.b.A_2017_2018_m_04_73516.ann',\n",
    "      'cdr3.b.A_2019_2020_d_00_20857.ann',\n",
    "    ],\n",
    "    # whether or not to display the cdr3 legend in the graph\n",
    "    show_legend=True,\n",
    ")\n",
    "print('computation complete.')\n"
   ]
  }
 ],
 "metadata": {
  "kernelspec": {
   "display_name": "Python 3",
   "language": "python",
   "name": "python3"
  },
  "language_info": {
   "codemirror_mode": {
    "name": "ipython",
    "version": 3
   },
   "file_extension": ".py",
   "mimetype": "text/x-python",
   "name": "python",
   "nbconvert_exporter": "python",
   "pygments_lexer": "ipython3",
   "version": "3.8.8"
  }
 },
 "nbformat": 4,
 "nbformat_minor": 5
}
