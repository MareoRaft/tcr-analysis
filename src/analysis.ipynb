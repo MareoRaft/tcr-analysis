{
 "cells": [
  {
   "cell_type": "code",
   "execution_count": null,
   "id": "following-spider",
   "metadata": {},
   "outputs": [],
   "source": [
    "import data_utils\n",
    "import main_cdr3_lifespan\n",
    "\n",
    "print('computation starting...')\n",
    "sample = data_utils.get_cdr3_counter_from_file('s', 'cdr3.b.A_2019_2020_d_00_20857.ann')\n",
    "cdr3s = [sample.get_cdr3_by_rank(r) for r in range(1, 5)]\n",
    "main_cdr3_lifespan.calculate_one(\n",
    "    # list of cdr3s you want to graph\n",
    "    cdr3s=cdr3s,\n",
    "    # sample file names to grab cdr3 frequency data from\n",
    "    file_names=[\n",
    "      'cdr3.b.A_2017_2018_d_00_53535.ann',\n",
    "      'cdr3.b.A_2017_2018_d_07_11143.ann',\n",
    "      'cdr3.b.A_2017_2018_d_28_44887.ann',\n",
    "      'cdr3.b.A_2017_2018_m_04_73516.ann',\n",
    "      'cdr3.b.A_2019_2020_d_00_20857.ann',\n",
    "    ],\n",
    "    # whether or not to display the cdr3 legend in the graph\n",
    "    show_legend=True,\n",
    ")\n",
    "print('computation complete.')\n"
   ]
  }
 ],
 "metadata": {
  "kernelspec": {
   "display_name": "Python 3",
   "language": "python",
   "name": "python3"
  },
  "language_info": {
   "codemirror_mode": {
    "name": "ipython",
    "version": 3
   },
   "file_extension": ".py",
   "mimetype": "text/x-python",
   "name": "python",
   "nbconvert_exporter": "python",
   "pygments_lexer": "ipython3",
   "version": "3.8.8"
  }
 },
 "nbformat": 4,
 "nbformat_minor": 5
}
