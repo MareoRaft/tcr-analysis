{
 "cells": [
  {
   "cell_type": "markdown",
   "id": "banner-blade",
   "metadata": {},
   "source": [
    "# Closest n CDR3s\n",
    "\n",
    "Find the n closest CDR3s to a given CDR3.\n",
    "\n",
    "Given a CDR3, a sample, a distance function, and a limit \"n\", find the n CDR3s in the sample that are closest to the given CDR3 according to the given distance function.\n",
    "\n",
    "If you have a specific CDR3 that is important for combatting a virus, this analysis could be useful for finding other CDR3s that may also defend against the virus.  This analysis is also useful for finding CDR3s that may have arisen from a mutation."
   ]
  },
  {
   "cell_type": "code",
   "execution_count": 3,
   "id": "partial-segment",
   "metadata": {},
   "outputs": [
    {
     "name": "stdout",
     "output_type": "stream",
     "text": [
      "[   ('cVVSAFQAGTALIf', (0, 65674)),\n",
      "    ('cVVSALQAGTALIf', (1, 841)),\n",
      "    ('cVVSAFQAGTALIl', (1, 662)),\n",
      "    ('cVVSTFQAGTALIf', (1, 597)),\n",
      "    ('cVVSAFQAGTALVf', (1, 596)),\n",
      "    ('cVVSAFQAGSALIf', (1, 511)),\n",
      "    ('cVVSAFEAGTALIf', (1, 497)),\n",
      "    ('cVVSAFLAGTALIf', (1, 461)),\n",
      "    ('cVVGAFQAGTALIf', (1, 424)),\n",
      "    ('cAVSAFQAGTALIf', (1, 417)),\n",
      "    ('rVVSAFQAGTALIf', (1, 373)),\n",
      "    ('cVASAFQAGTALIf', (1, 340)),\n",
      "    ('cVVSAFQAGTAPIf', (1, 338)),\n",
      "    ('cVVSAFQAGTALIs', (1, 320)),\n",
      "    ('cVVSASQAGTALIf', (1, 319)),\n",
      "    ('cVVSAFQAGAALIf', (1, 296)),\n",
      "    ('cVVSAFQAGTALTf', (1, 287)),\n",
      "    ('cVVSAFRAGTALIf', (1, 275)),\n",
      "    ('cVVSAVQAGTALIf', (1, 262)),\n",
      "    ('cVVSEFQAGTALIf', (1, 240))]\n"
     ]
    }
   ],
   "source": [
    "import main_n_closest_cdr3s\n",
    "import cdr3_distances\n",
    "\n",
    "main_n_closest_cdr3s.get_n_closest_cdr3s(\n",
    "    # the file name of the sample you want to analyze\n",
    "    file_name='cdr3.a.A_2017_2018_d_00_53535.ann',\n",
    "    # the CDR3 sequence\n",
    "    cdr3='cVVSAFQAGTALIf',\n",
    "    # the number of closest CDR3s you want to output\n",
    "    n=20,\n",
    "    # the distance function you want to use on each pair of CDR3s\n",
    "    dist_func=cdr3_distances.hamming,\n",
    "    # the ngram 'n' to use on the CDR3 sequences before applying the distance function (defaults to 1)\n",
    "    n_gram_len=1,\n",
    ")\n"
   ]
  },
  {
   "cell_type": "markdown",
   "id": "automated-extension",
   "metadata": {},
   "source": [
    "# Curve fitting CDR3 frequencies\n",
    "\n",
    "Given a sample, we graph its CDR3 frequencies and then fit a piecewise Zipf and exponential decay curve to the points.\n",
    "\n",
    "We report the R^2 score which indicates how good the fit is."
   ]
  },
  {
   "cell_type": "code",
   "execution_count": 2,
   "id": "attended-increase",
   "metadata": {},
   "outputs": [
    {
     "name": "stdout",
     "output_type": "stream",
     "text": [
      "computation starting...\n",
      "\n",
      "\n",
      "fitted params: [ 1.51040446e+01  3.05335000e+04  3.10000000e+00  2.79428556e+04\n",
      " -4.91166043e-01  1.15094300e+04]\n",
      "R^2 score: 0.9980459960873619\n"
     ]
    },
    {
     "name": "stderr",
     "output_type": "stream",
     "text": [
      "/home/matt/work/main_piecewise_curve_fitting.py:29: RuntimeWarning: divide by zero encountered in true_divide\n",
      "  lambda x: (x**-a)/zetac(a) + v_shift_left,\n",
      "/home/matt/work/main_piecewise_curve_fitting.py:29: RuntimeWarning: invalid value encountered in true_divide\n",
      "  lambda x: (x**-a)/zetac(a) + v_shift_left,\n",
      "/opt/conda/lib/python3.8/site-packages/scipy/optimize/minpack.py:828: OptimizeWarning: Covariance of the parameters could not be estimated\n",
      "  warnings.warn('Covariance of the parameters could not be estimated',\n"
     ]
    },
    {
     "data": {
      "image/png": "[encoded data removed]",
      "text/plain": [
       "<Figure size 576x396 with 1 Axes>"
      ]
     },
     "metadata": {},
     "output_type": "display_data"
    },
    {
     "name": "stdout",
     "output_type": "stream",
     "text": [
      "\n",
      "\n",
      "computation complete.\n"
     ]
    }
   ],
   "source": [
    "import main_piecewise_curve_fitting\n",
    "\n",
    "print('computation starting...\\n\\n')\n",
    "main_piecewise_curve_fitting.fit_curve(\n",
    "    # file name of the sample whose frequencies you want to analyze\n",
    "    file_name='cdr3.a.A_2017_2018_d_00_53535.ann',\n",
    "    # the number of CDR3s you want to analyze (put None if you want them all).\n",
    "    num_cdr3s=50,\n",
    "    # reasonable starting guesses for the fit method\n",
    "    # param 1: 's' negative exponent of (x**-s/zetac(s) + c) Zipf func\n",
    "    # param 2: 'c' vertical displacement of (x**-s/zetac(s) + c) Zipf func\n",
    "    # param 3: the piecewise midpoint cutoff boundary\n",
    "    # param 4: 'a' multiplier in (a * x**b + c) exponential decay func\n",
    "    # param 5: 'b' exponent in (a * x**b + c) exponential decay func\n",
    "    # param 6: 'c' constant in (a * x**b + c) exponential decay func\n",
    "    initial_param_guesses=[6.1, 1.1, 3.1, 60000.1, -1.1, 1.1],\n",
    ")\n",
    "print('\\n\\ncomputation complete.')\n"
   ]
  },
  {
   "cell_type": "markdown",
   "id": "pleasant-ancient",
   "metadata": {},
   "source": [
    "# Sample to Sample distance ladder\n",
    "\n",
    "Look at the distance (amount of change) between pairs of samples.\n",
    "\n",
    "Various distance functions can be used to compute a distance between a pair of samples.  In this analysis you can choose which distance function suits your objective.\n",
    "\n",
    "The number immediately to the right of a sample represents the distance between that sample and the one immediately below it.  The number TWO spots to the right of the sample represents the distance between that sample and the one TWO spots below it.  And so forth."
   ]
  },
  {
   "cell_type": "code",
   "execution_count": null,
   "id": "related-transition",
   "metadata": {},
   "outputs": [],
   "source": [
    "import main_sample_to_sample\n",
    "import sample_distances\n",
    "\n",
    "print('computation starting...\\n\\n')\n",
    "main_sample_to_sample.calculate_combination(\n",
    "    # distance function used to compute the distance between each pair of samples\n",
    "    # valid inputs: l2 (Euclidean), lp(p) (input any integer >= 1 for p), linfty, jaccard, weighted_jaccard\n",
    "    dist_func=sample_distances.lp(1),\n",
    "    # list the samples you want to compare. they will be compared in the order you put them.\n",
    "    file_names=[\n",
    "        'cdr3.b.A_2017_2018_d_00_53535.ann',\n",
    "        'cdr3.b.A_2017_2018_d_07_11143.ann',\n",
    "        'cdr3.b.A_2017_2018_d_28_44887.ann',\n",
    "        'cdr3.b.A_2017_2018_m_04_73516.ann',\n",
    "        # 'cdr3.b.A_2019_2020_d_00_20857.ann',\n",
    "    ],\n",
    "    # the maximum number of columns in the distance ladder\n",
    "    ladder_width=3,\n",
    ")\n",
    "print('\\n\\ncomputation complete.')\n"
   ]
  },
  {
   "cell_type": "markdown",
   "id": "chicken-expression",
   "metadata": {},
   "source": [
    "# Average sample distance\n",
    "\n",
    "Find the average distance between pairs of samples.\n",
    "\n",
    "Given a list of samples, find the distance between each possible sample pair, and then take the average of those numbers.  This is useful to get an idea of what a \"normal\" distance might be in the context of the samples you are currently looking at and the current distance function you are using."
   ]
  },
  {
   "cell_type": "code",
   "execution_count": null,
   "id": "checked-columbia",
   "metadata": {},
   "outputs": [],
   "source": [
    "import main_average_sample_distance\n",
    "import sample_distances\n",
    "\n",
    "print('computation starting...\\n\\n')\n",
    "main_average_sample_distance.calculate_combination(\n",
    "    # distance function used to compute the distance between each pair of samples\n",
    "    # valid inputs: l2 (Euclidean), lp(p) (input any integer >= 1 for p), linfty, jaccard, weighted_jaccard\n",
    "    dist_func=sample_distances.linfty,\n",
    "    # samples you want to compare. order does not matter.\n",
    "    file_names={\n",
    "        'A': ['cdr3.a.A_2017_2018_d_00_53535.ann'],\n",
    "        'B': ['cdr3.a.B_2017_2018_d_00_32483.ann'],\n",
    "        'C': ['cdr3.a.C_2017_2018_d_00_26898.ann'],\n",
    "        # 'D': ['cdr3.a.D_2017_2018_d_00_45294.ann'],\n",
    "        # 'E': ['cdr3.a.E_2017_2018_d_00_94077.ann'],\n",
    "    },\n",
    ")\n",
    "print('\\n\\ncomputation complete.')\n"
   ]
  },
  {
   "cell_type": "markdown",
   "id": "vanilla-generic",
   "metadata": {},
   "source": [
    "# CDR3s to Sample\n",
    "\n",
    "Use distances between a small number of CDR3s in order to guess which sample they came from.\n",
    "\n",
    "For example, we could have 5 people and 1 sample from each person.  We then remove a CDR3 at random from one of these samples (and to be fair, we remove the same CDR3 from all the other samples if it occurs).  We then look at the distance between this CDR3 and the remaining CDR3s in the samples, and we see which sample is closest.  We **guess** that this is the sample that the CDR3 was originally removed from.  Finally, we rerun the whole process `num_trials` times and report the percentage of guesses that were correct (the **accuracy**)."
   ]
  },
  {
   "cell_type": "code",
   "execution_count": null,
   "id": "southwest-ultimate",
   "metadata": {},
   "outputs": [],
   "source": [
    "import main_cdr3s_to_sample\n",
    "\n",
    "print('computation starting...')\n",
    "main_cdr3s_to_sample.calculate_combination(\n",
    "    # the file names of the samples you want to guess among\n",
    "    file_names={\n",
    "        'A': ['cdr3.a.A_2000_2001_d_00_47407.ann'],\n",
    "        'B': ['cdr3.a.B_2017_2018_d_00_32483.ann'],\n",
    "        'C': ['cdr3.a.C_2017_2018_d_00_26898.ann'],\n",
    "        # 'D': ['cdr3.a.D_2017_2018_d_00_45294.ann'],\n",
    "        # 'E': ['cdr3.a.E_2017_2018_d_00_94077.ann'],\n",
    "    },\n",
    "    # the number of times to run the simulation per sample\n",
    "    num_trials_per_sample=3,\n",
    "    # the ngram 'n' to use on the CDR3 sequences before applying the distance function\n",
    "    n_gram_len=1,\n",
    "    # the distance function to use on pairs of CDR3s\n",
    "    inner_dist_func_name='jaccard',\n",
    "    # the aggregation function to use on cdr3 distances in order to obtain a single cdr3--sample distance\n",
    "    dist_agg_func_name='min',\n",
    "    # the number of CDR3s to use per guess. more CDR3s is more information and should increase accuracy, but also increase computation time\n",
    "    num_cdr3s=1,\n",
    ")\n",
    "print('computation complete.')\n"
   ]
  },
  {
   "cell_type": "markdown",
   "id": "brazilian-habitat",
   "metadata": {},
   "source": [
    "# CDR3 Lifespan\n",
    "\n",
    "Run the following cell to get a graph of cdr3 frequencies changing over time."
   ]
  },
  {
   "cell_type": "code",
   "execution_count": null,
   "id": "direct-medicaid",
   "metadata": {},
   "outputs": [],
   "source": [
    "import data_utils\n",
    "import main_cdr3_lifespan\n",
    "\n",
    "print('computation starting...')\n",
    "sample = data_utils.get_cdr3_counter_from_file('s', 'cdr3.b.A_2019_2020_d_00_20857.ann')\n",
    "cdr3s = [sample.get_cdr3_by_rank(r) for r in range(1, 5)] # <- top 4 cdr3 sequences occuring in cdr3.b.A_2019_2020_d_00_20857.ann\n",
    "main_cdr3_lifespan.calculate_one(\n",
    "    # list of cdr3 sequences you want to graph\n",
    "    cdr3s=cdr3s,\n",
    "    # Sample file names from which to grab cdr3 frequency data.\n",
    "    # Typically all files are from the SAME person.\n",
    "    # Each file will correspond to a single date on the x-axis of the graph.\n",
    "    file_names=[\n",
    "      'cdr3.b.A_2017_2018_d_00_53535.ann',\n",
    "      'cdr3.b.A_2017_2018_d_07_11143.ann',\n",
    "      'cdr3.b.A_2017_2018_d_28_44887.ann',\n",
    "      'cdr3.b.A_2017_2018_m_04_73516.ann',\n",
    "      'cdr3.b.A_2019_2020_d_00_20857.ann',\n",
    "    ],\n",
    "    # whether or not to display the cdr3 legend in the graph\n",
    "    show_legend=True,\n",
    ")\n",
    "print('computation complete.')\n"
   ]
  }
 ],
 "metadata": {
  "kernelspec": {
   "display_name": "Python 3",
   "language": "python",
   "name": "python3"
  },
  "language_info": {
   "codemirror_mode": {
    "name": "ipython",
    "version": 3
   },
   "file_extension": ".py",
   "mimetype": "text/x-python",
   "name": "python",
   "nbconvert_exporter": "python",
   "pygments_lexer": "ipython3",
   "version": "3.8.8"
  }
 },
 "nbformat": 4,
 "nbformat_minor": 5
}
